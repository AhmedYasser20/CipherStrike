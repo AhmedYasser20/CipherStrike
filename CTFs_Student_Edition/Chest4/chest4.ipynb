{
 "cells": [
  {
   "cell_type": "code",
   "execution_count": null,
   "id": "d9e8a5ba",
   "metadata": {},
   "outputs": [
    {
     "name": "stdout",
     "output_type": "stream",
     "text": [
      "The password is: CMPN{reverse_engineering}\n"
     ]
    }
   ],
   "source": [
    "#Little Endian Storage ==> reverse the bytes\n",
    "# param 2 bytes\n",
    "param2 = [\n",
    "    0x45, 0x50, 0x52, 0x51, 0x7C, 0x73, 0x67, 0x7B,  # local_28\n",
    "    0x69, 0x75,                                      # local_20\n",
    "    0x75, 0x66, 0x62, 0x6A, 0x71, 0x68,              # uStack_1e\n",
    "    0x6F, 0x75,                                      # uStack_18\n",
    "    0x68, 0x67, 0x76, 0x68, 0x6D, 0x68, 0x7E         # local_16\n",
    "]\n",
    "\n",
    "# param 3 bytes\n",
    "param3 = [\n",
    "    0x02, 0x03, 0x02, 0x03, 0x01, 0x01, 0x02, 0x05,  # local_48\n",
    "    0x04, 0x03,                                      # local_40\n",
    "    0x02, 0x01, 0x03, 0x05, 0x03, 0x01,              # uStack_3e\n",
    "    0x06, 0x07,                                      # uStack_38\n",
    "    0x03, 0x02, 0x04, 0xff, 0xff, 0x01, 0x01         # local_36\n",
    "]\n",
    "\n",
    "# Recover the password (password[i] = param2[i] - param3[i])\n",
    "password = ''\n",
    "for p2, p3 in zip(param2, param3):\n",
    "    diff = p2 - p3\n",
    "    while diff < 0:  # make sure it stays in 0-255 range\n",
    "        diff += 256\n",
    "    password += chr(diff)\n",
    "\n",
    "print(f\"The password is: {password}\")\n"
   ]
  },
  {
   "attachments": {
    "image.png": {
     "image/png": "[encoded data removed]"
    }
   },
   "cell_type": "markdown",
   "id": "f332b987",
   "metadata": {},
   "source": [
    "![image.png](attachment:image.png)"
   ]
  }
 ],
 "metadata": {
  "kernelspec": {
   "display_name": "base",
   "language": "python",
   "name": "python3"
  },
  "language_info": {
   "codemirror_mode": {
    "name": "ipython",
    "version": 3
   },
   "file_extension": ".py",
   "mimetype": "text/x-python",
   "name": "python",
   "nbconvert_exporter": "python",
   "pygments_lexer": "ipython3",
   "version": "3.12.3"
  }
 },
 "nbformat": 4,
 "nbformat_minor": 5
}
