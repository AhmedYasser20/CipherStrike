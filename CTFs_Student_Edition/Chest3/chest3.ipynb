{
 "cells": [
  {
   "cell_type": "markdown",
   "id": "8017e1fc",
   "metadata": {},
   "source": [
    "the key here is the reverse ingeneering\n",
    "\n",
    "1. we will reverse the scrambling algorithm and apply it on the expected to get the original\n",
    "2. Key: s0m3_m0r3_b1t_sh1fTiNg_91c642112"
   ]
  },
  {
   "cell_type": "markdown",
   "id": "f86b7279",
   "metadata": {},
   "source": [
    "reverse the scrambling logic for the expected key"
   ]
  },
  {
   "cell_type": "code",
   "execution_count": 6,
   "id": "a3029b54",
   "metadata": {},
   "outputs": [
    {
     "name": "stdout",
     "output_type": "stream",
     "text": [
      "Key: s0m3_m0r3_b1t_sh1fTiNg_91c642112\n"
     ]
    }
   ],
   "source": [
    "# Swaps the bits at positions p1 and p2 in byte c\n",
    "def switch_bits(c, p1, p2):\n",
    "    bit1 = (c >> p1) & 1\n",
    "    bit2 = (c >> p2) & 1\n",
    "    if bit1 != bit2:\n",
    "        c ^= (1 << p1) | (1 << p2)\n",
    "    return c\n",
    "\n",
    "# Applies the reverse scrambling logic\n",
    "def reverse_scramble(c):\n",
    "    # c = switch_bits(c, 1, 2)\n",
    "    # c = switch_bits(c, 0, 3)\n",
    "    # c = switch_bits(c, 5, 6)\n",
    "    # c = switch_bits(c, 4, 7)\n",
    "    # c = switch_bits(c, 0, 1)\n",
    "    # c = switch_bits(c, 3, 4)\n",
    "    # c = switch_bits(c, 2, 5)\n",
    "    # c = switch_bits(c, 6, 7)\n",
    "\n",
    "    c = switch_bits(c, 6, 7)\n",
    "    c = switch_bits(c, 2, 5)\n",
    "    c = switch_bits(c, 3, 4)\n",
    "    c = switch_bits(c, 0, 1)\n",
    "    c = switch_bits(c, 4, 7)\n",
    "    c = switch_bits(c, 5, 6)\n",
    "    c = switch_bits(c, 0, 3)\n",
    "    c = switch_bits(c, 1, 2)\n",
    "    return c\n",
    "\n",
    "# These are the scrambled expected bytes from VaultDoor8.java\n",
    "expected = [\n",
    "    0xF4, 0xC0, 0x97, 0xF0, 0x77, 0x97, 0xC0, 0xE4,\n",
    "    0xF0, 0x77, 0xA4, 0xD0, 0xC5, 0x77, 0xF4, 0x86,\n",
    "    0xD0, 0xA5, 0x45, 0x96, 0x27, 0xB5, 0x77, 0xD2,\n",
    "    0xD0, 0xB4, 0xE1, 0xC1, 0xE0, 0xD0, 0xD0, 0xE0\n",
    "]\n",
    "\n",
    "# Recover the original password\n",
    "recovered = []\n",
    "for target in expected:\n",
    "    recovered.append(chr(reverse_scramble(target)))\n",
    "\n",
    "# Join the characters into the final password\n",
    "password = ''.join(recovered)\n",
    "print(\"Key:\", password)\n"
   ]
  },
  {
   "attachments": {
    "image.png": {
     "image/png": "[encoded data removed]"
    }
   },
   "cell_type": "markdown",
   "id": "44021b04",
   "metadata": {},
   "source": [
    "![image.png](attachment:image.png)"
   ]
  }
 ],
 "metadata": {
  "kernelspec": {
   "display_name": "base",
   "language": "python",
   "name": "python3"
  },
  "language_info": {
   "codemirror_mode": {
    "name": "ipython",
    "version": 3
   },
   "file_extension": ".py",
   "mimetype": "text/x-python",
   "name": "python",
   "nbconvert_exporter": "python",
   "pygments_lexer": "ipython3",
   "version": "3.12.3"
  }
 },
 "nbformat": 4,
 "nbformat_minor": 5
}
