{
 "cells": [
  {
   "cell_type": "markdown",
   "id": "a0703bff",
   "metadata": {},
   "source": [
    "we can apply language analysis but,\n",
    "\n",
    "since we know from the notes:\n",
    "\n",
    "    WRL    QLGZIL\n",
    "    DOE    Jotaro\n",
    "\n",
    "we can expect a refersed order for the alphabets (atbash):\n",
    "\n",
    "    abcdefghijklmnopqrstuvwxyz\n",
    "    zyxwvutsrqponmlkjihgfedcba"
   ]
  },
  {
   "cell_type": "markdown",
   "id": "49bce86e",
   "metadata": {},
   "source": [
    "Atbash cipher"
   ]
  },
  {
   "cell_type": "code",
   "execution_count": null,
   "id": "f00e6184",
   "metadata": {},
   "outputs": [],
   "source": [
    "def atbash(text):\n",
    "    original_lower = 'abcdefghijklmnopqrstuvwxyz'\n",
    "    reversed_lower = 'zyxwvutsrqponmlkjihgfedcba'\n",
    "    original_upper = 'ABCDEFGHIJKLMNOPQRSTUVWXYZ'\n",
    "    reversed_upper = 'ZYXWVUTSRQPONMLKJIHGFEDCBA'\n",
    "    def transform(c):\n",
    "        if c.isalpha():\n",
    "            if c.islower():\n",
    "                return reversed_lower[original_lower.index(c)]\n",
    "            else:\n",
    "                return reversed_upper[original_upper.index(c)]\n",
    "        return c\n",
    "    return ''.join(transform(c) for c in text)\n"
   ]
  },
  {
   "cell_type": "markdown",
   "id": "362d77c3",
   "metadata": {},
   "source": [
    "decrept the ciphertext"
   ]
  },
  {
   "cell_type": "code",
   "execution_count": 10,
   "id": "80299f0c",
   "metadata": {},
   "outputs": [
    {
     "name": "stdout",
     "output_type": "stream",
     "text": [
      "Decrypted text written to dec.txt\n"
     ]
    }
   ],
   "source": [
    "with open(\"enc.txt\", \"r\") as f:\n",
    "    ciphertext = f.read()\n",
    "\n",
    "plaintext = atbash(ciphertext)\n",
    "\n",
    "with open(\"dec.txt\", \"w\") as f:\n",
    "    f.write(plaintext)\n",
    "print(\"Decrypted text written to dec.txt\")"
   ]
  }
 ],
 "metadata": {
  "kernelspec": {
   "display_name": "base",
   "language": "python",
   "name": "python3"
  },
  "language_info": {
   "codemirror_mode": {
    "name": "ipython",
    "version": 3
   },
   "file_extension": ".py",
   "mimetype": "text/x-python",
   "name": "python",
   "nbconvert_exporter": "python",
   "pygments_lexer": "ipython3",
   "version": "3.12.3"
  }
 },
 "nbformat": 4,
 "nbformat_minor": 5
}
